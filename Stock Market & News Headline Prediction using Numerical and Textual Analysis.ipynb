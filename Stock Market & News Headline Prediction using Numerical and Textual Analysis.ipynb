{
 "cells": [
  {
   "cell_type": "code",
   "execution_count": 1,
   "metadata": {},
   "outputs": [
    {
     "name": "stderr",
     "output_type": "stream",
     "text": [
      "C:\\Users\\trinkesh\\anaconda3\\lib\\site-packages\\pandas_datareader\\compat\\__init__.py:7: FutureWarning: pandas.util.testing is deprecated. Use the functions in the public API at pandas.testing instead.\n",
      "  from pandas.util.testing import assert_frame_equal\n"
     ]
    }
   ],
   "source": [
    "#import libraries\n",
    "import pandas as pd\n",
    "import numpy as np\n",
    "import seaborn as sns \n",
    "import matplotlib.pyplot as plt\n",
    "%matplotlib inline\n",
    "import pandas_datareader.data as web\n",
    "from pandas import Series,DataFrame\n",
    "import datetime"
   ]
  },
  {
   "cell_type": "code",
   "execution_count": 2,
   "metadata": {},
   "outputs": [],
   "source": [
    "#load yahoo finance dataset\n",
    "start  = datetime.datetime(2010,1,1)\n",
    "end = datetime.datetime(2020,10,11)\n",
    "df  = web.DataReader('AAPL','yahoo',start,end)"
   ]
  },
  {
   "cell_type": "code",
   "execution_count": 3,
   "metadata": {},
   "outputs": [
    {
     "data": {
      "text/html": [
       "<div>\n",
       "<style scoped>\n",
       "    .dataframe tbody tr th:only-of-type {\n",
       "        vertical-align: middle;\n",
       "    }\n",
       "\n",
       "    .dataframe tbody tr th {\n",
       "        vertical-align: top;\n",
       "    }\n",
       "\n",
       "    .dataframe thead th {\n",
       "        text-align: right;\n",
       "    }\n",
       "</style>\n",
       "<table border=\"1\" class=\"dataframe\">\n",
       "  <thead>\n",
       "    <tr style=\"text-align: right;\">\n",
       "      <th></th>\n",
       "      <th>High</th>\n",
       "      <th>Low</th>\n",
       "      <th>Open</th>\n",
       "      <th>Close</th>\n",
       "      <th>Volume</th>\n",
       "      <th>Adj Close</th>\n",
       "    </tr>\n",
       "    <tr>\n",
       "      <th>Date</th>\n",
       "      <th></th>\n",
       "      <th></th>\n",
       "      <th></th>\n",
       "      <th></th>\n",
       "      <th></th>\n",
       "      <th></th>\n",
       "    </tr>\n",
       "  </thead>\n",
       "  <tbody>\n",
       "    <tr>\n",
       "      <th>2009-12-31</th>\n",
       "      <td>7.619643</td>\n",
       "      <td>7.520000</td>\n",
       "      <td>7.611786</td>\n",
       "      <td>7.526072</td>\n",
       "      <td>352410800.0</td>\n",
       "      <td>6.503574</td>\n",
       "    </tr>\n",
       "    <tr>\n",
       "      <th>2010-01-04</th>\n",
       "      <td>7.660714</td>\n",
       "      <td>7.585000</td>\n",
       "      <td>7.622500</td>\n",
       "      <td>7.643214</td>\n",
       "      <td>493729600.0</td>\n",
       "      <td>6.604801</td>\n",
       "    </tr>\n",
       "    <tr>\n",
       "      <th>2010-01-05</th>\n",
       "      <td>7.699643</td>\n",
       "      <td>7.616071</td>\n",
       "      <td>7.664286</td>\n",
       "      <td>7.656428</td>\n",
       "      <td>601904800.0</td>\n",
       "      <td>6.616219</td>\n",
       "    </tr>\n",
       "    <tr>\n",
       "      <th>2010-01-06</th>\n",
       "      <td>7.686786</td>\n",
       "      <td>7.526786</td>\n",
       "      <td>7.656428</td>\n",
       "      <td>7.534643</td>\n",
       "      <td>552160000.0</td>\n",
       "      <td>6.510980</td>\n",
       "    </tr>\n",
       "    <tr>\n",
       "      <th>2010-01-07</th>\n",
       "      <td>7.571429</td>\n",
       "      <td>7.466072</td>\n",
       "      <td>7.562500</td>\n",
       "      <td>7.520714</td>\n",
       "      <td>477131200.0</td>\n",
       "      <td>6.498945</td>\n",
       "    </tr>\n",
       "  </tbody>\n",
       "</table>\n",
       "</div>"
      ],
      "text/plain": [
       "                High       Low      Open     Close       Volume  Adj Close\n",
       "Date                                                                      \n",
       "2009-12-31  7.619643  7.520000  7.611786  7.526072  352410800.0   6.503574\n",
       "2010-01-04  7.660714  7.585000  7.622500  7.643214  493729600.0   6.604801\n",
       "2010-01-05  7.699643  7.616071  7.664286  7.656428  601904800.0   6.616219\n",
       "2010-01-06  7.686786  7.526786  7.656428  7.534643  552160000.0   6.510980\n",
       "2010-01-07  7.571429  7.466072  7.562500  7.520714  477131200.0   6.498945"
      ]
     },
     "execution_count": 3,
     "metadata": {},
     "output_type": "execute_result"
    }
   ],
   "source": [
    "df.head()"
   ]
  },
  {
   "cell_type": "code",
   "execution_count": 4,
   "metadata": {},
   "outputs": [
    {
     "data": {
      "text/html": [
       "<div>\n",
       "<style scoped>\n",
       "    .dataframe tbody tr th:only-of-type {\n",
       "        vertical-align: middle;\n",
       "    }\n",
       "\n",
       "    .dataframe tbody tr th {\n",
       "        vertical-align: top;\n",
       "    }\n",
       "\n",
       "    .dataframe thead th {\n",
       "        text-align: right;\n",
       "    }\n",
       "</style>\n",
       "<table border=\"1\" class=\"dataframe\">\n",
       "  <thead>\n",
       "    <tr style=\"text-align: right;\">\n",
       "      <th></th>\n",
       "      <th>High</th>\n",
       "      <th>Low</th>\n",
       "      <th>Open</th>\n",
       "      <th>Close</th>\n",
       "      <th>Volume</th>\n",
       "      <th>Adj Close</th>\n",
       "    </tr>\n",
       "    <tr>\n",
       "      <th>Date</th>\n",
       "      <th></th>\n",
       "      <th></th>\n",
       "      <th></th>\n",
       "      <th></th>\n",
       "      <th></th>\n",
       "      <th></th>\n",
       "    </tr>\n",
       "  </thead>\n",
       "  <tbody>\n",
       "    <tr>\n",
       "      <th>2020-10-05</th>\n",
       "      <td>116.650002</td>\n",
       "      <td>113.550003</td>\n",
       "      <td>113.910004</td>\n",
       "      <td>116.500000</td>\n",
       "      <td>106243800.0</td>\n",
       "      <td>116.500000</td>\n",
       "    </tr>\n",
       "    <tr>\n",
       "      <th>2020-10-06</th>\n",
       "      <td>116.120003</td>\n",
       "      <td>112.250000</td>\n",
       "      <td>115.699997</td>\n",
       "      <td>113.160004</td>\n",
       "      <td>161498200.0</td>\n",
       "      <td>113.160004</td>\n",
       "    </tr>\n",
       "    <tr>\n",
       "      <th>2020-10-07</th>\n",
       "      <td>115.550003</td>\n",
       "      <td>114.129997</td>\n",
       "      <td>114.620003</td>\n",
       "      <td>115.080002</td>\n",
       "      <td>96849000.0</td>\n",
       "      <td>115.080002</td>\n",
       "    </tr>\n",
       "    <tr>\n",
       "      <th>2020-10-08</th>\n",
       "      <td>116.400002</td>\n",
       "      <td>114.589996</td>\n",
       "      <td>116.250000</td>\n",
       "      <td>114.970001</td>\n",
       "      <td>83477200.0</td>\n",
       "      <td>114.970001</td>\n",
       "    </tr>\n",
       "    <tr>\n",
       "      <th>2020-10-09</th>\n",
       "      <td>117.000000</td>\n",
       "      <td>114.919998</td>\n",
       "      <td>115.279999</td>\n",
       "      <td>116.970001</td>\n",
       "      <td>100506900.0</td>\n",
       "      <td>116.970001</td>\n",
       "    </tr>\n",
       "  </tbody>\n",
       "</table>\n",
       "</div>"
      ],
      "text/plain": [
       "                  High         Low        Open       Close       Volume  \\\n",
       "Date                                                                      \n",
       "2020-10-05  116.650002  113.550003  113.910004  116.500000  106243800.0   \n",
       "2020-10-06  116.120003  112.250000  115.699997  113.160004  161498200.0   \n",
       "2020-10-07  115.550003  114.129997  114.620003  115.080002   96849000.0   \n",
       "2020-10-08  116.400002  114.589996  116.250000  114.970001   83477200.0   \n",
       "2020-10-09  117.000000  114.919998  115.279999  116.970001  100506900.0   \n",
       "\n",
       "             Adj Close  \n",
       "Date                    \n",
       "2020-10-05  116.500000  \n",
       "2020-10-06  113.160004  \n",
       "2020-10-07  115.080002  \n",
       "2020-10-08  114.970001  \n",
       "2020-10-09  116.970001  "
      ]
     },
     "execution_count": 4,
     "metadata": {},
     "output_type": "execute_result"
    }
   ],
   "source": [
    "df.tail()"
   ]
  },
  {
   "cell_type": "code",
   "execution_count": 5,
   "metadata": {},
   "outputs": [
    {
     "data": {
      "text/plain": [
       "(2713, 6)"
      ]
     },
     "execution_count": 5,
     "metadata": {},
     "output_type": "execute_result"
    }
   ],
   "source": [
    "df.shape"
   ]
  },
  {
   "cell_type": "markdown",
   "metadata": {},
   "source": [
    "Exploring Rolling Mean and Return Rate of Stocks\n",
    "In this analysis, we analyse stocks using two key measurements: Rolling Mean and Return Rate.\n",
    "\n",
    "Rolling Mean (Moving Average) — to determine trend\n",
    "Rolling mean/Moving Average (MA) smooths out price data by creating a constantly updated average price. This is useful to cut down “noise” in our price chart. Furthermore, this Moving Average could act as “Resistance” meaning from the downtrend and uptrend of stocks you could expect it will follow the trend and less likely to deviate outside its resistance point."
   ]
  },
  {
   "cell_type": "code",
   "execution_count": 6,
   "metadata": {},
   "outputs": [
    {
     "data": {
      "text/plain": [
       "Date\n",
       "2009-12-31           NaN\n",
       "2010-01-04           NaN\n",
       "2010-01-05           NaN\n",
       "2010-01-06           NaN\n",
       "2010-01-07           NaN\n",
       "                 ...    \n",
       "2020-10-05    100.898996\n",
       "2020-10-06    101.258138\n",
       "2020-10-07    101.641048\n",
       "2020-10-08    102.004765\n",
       "2020-10-09    102.393024\n",
       "Name: Adj Close, Length: 2713, dtype: float64"
      ]
     },
     "execution_count": 6,
     "metadata": {},
     "output_type": "execute_result"
    }
   ],
   "source": [
    "close = df[\"Adj Close\"]\n",
    "close\n",
    "movingavg = close.rolling(window = 100).mean()\n",
    "movingavg"
   ]
  },
  {
   "cell_type": "code",
   "execution_count": 7,
   "metadata": {},
   "outputs": [],
   "source": [
    "from matplotlib import style\n",
    "import matplotlib as mpl\n"
   ]
  },
  {
   "cell_type": "code",
   "execution_count": 8,
   "metadata": {},
   "outputs": [
    {
     "data": {
      "text/plain": [
       "<matplotlib.legend.Legend at 0x2c8ccd77408>"
      ]
     },
     "execution_count": 8,
     "metadata": {},
     "output_type": "execute_result"
    },
    {
     "data": {
      "image/png": "[encoded data removed]",
      "text/plain": [
       "<Figure size 432x288 with 1 Axes>"
      ]
     },
     "metadata": {},
     "output_type": "display_data"
    }
   ],
   "source": [
    "style.use('ggplot')\n",
    "close.plot(label = 'AAPL')\n",
    "movingavg.plot(label = 'mavg')\n",
    "plt.legend()"
   ]
  },
  {
   "cell_type": "code",
   "execution_count": 9,
   "metadata": {},
   "outputs": [
    {
     "data": {
      "image/png": "[encoded data removed]",
      "text/plain": [
       "<Figure size 432x288 with 1 Axes>"
      ]
     },
     "metadata": {},
     "output_type": "display_data"
    }
   ],
   "source": [
    "rate =  close/close.shift(1) - 1\n",
    "rate.plot(label  = 'return')\n",
    "plt.show()"
   ]
  },
  {
   "cell_type": "markdown",
   "metadata": {},
   "source": [
    "# Analysing comepeters stock\n",
    "we are going to analyse on how one company performs in relative with its competitor. Let’s assume we are interested in technology companies and want to compare the big guns: Apple, GE, Google, IBM, and Microsoft."
   ]
  },
  {
   "cell_type": "code",
   "execution_count": 10,
   "metadata": {},
   "outputs": [
    {
     "data": {
      "text/html": [
       "<div>\n",
       "<style scoped>\n",
       "    .dataframe tbody tr th:only-of-type {\n",
       "        vertical-align: middle;\n",
       "    }\n",
       "\n",
       "    .dataframe tbody tr th {\n",
       "        vertical-align: top;\n",
       "    }\n",
       "\n",
       "    .dataframe thead th {\n",
       "        text-align: right;\n",
       "    }\n",
       "</style>\n",
       "<table border=\"1\" class=\"dataframe\">\n",
       "  <thead>\n",
       "    <tr style=\"text-align: right;\">\n",
       "      <th>Symbols</th>\n",
       "      <th>AAPL</th>\n",
       "      <th>GOOG</th>\n",
       "      <th>GE</th>\n",
       "      <th>IBM</th>\n",
       "      <th>MSFT</th>\n",
       "    </tr>\n",
       "    <tr>\n",
       "      <th>Date</th>\n",
       "      <th></th>\n",
       "      <th></th>\n",
       "      <th></th>\n",
       "      <th></th>\n",
       "      <th></th>\n",
       "    </tr>\n",
       "  </thead>\n",
       "  <tbody>\n",
       "    <tr>\n",
       "      <th>2009-12-31</th>\n",
       "      <td>6.503574</td>\n",
       "      <td>308.832428</td>\n",
       "      <td>10.493408</td>\n",
       "      <td>92.406113</td>\n",
       "      <td>23.801456</td>\n",
       "    </tr>\n",
       "    <tr>\n",
       "      <th>2010-01-04</th>\n",
       "      <td>6.604801</td>\n",
       "      <td>312.204773</td>\n",
       "      <td>10.715343</td>\n",
       "      <td>93.500313</td>\n",
       "      <td>24.168472</td>\n",
       "    </tr>\n",
       "    <tr>\n",
       "      <th>2010-01-05</th>\n",
       "      <td>6.616219</td>\n",
       "      <td>310.829926</td>\n",
       "      <td>10.770829</td>\n",
       "      <td>92.370834</td>\n",
       "      <td>24.176279</td>\n",
       "    </tr>\n",
       "    <tr>\n",
       "      <th>2010-01-06</th>\n",
       "      <td>6.510980</td>\n",
       "      <td>302.994293</td>\n",
       "      <td>10.715343</td>\n",
       "      <td>91.770790</td>\n",
       "      <td>24.027906</td>\n",
       "    </tr>\n",
       "    <tr>\n",
       "      <th>2010-01-07</th>\n",
       "      <td>6.498945</td>\n",
       "      <td>295.940735</td>\n",
       "      <td>11.270185</td>\n",
       "      <td>91.453102</td>\n",
       "      <td>23.778025</td>\n",
       "    </tr>\n",
       "  </tbody>\n",
       "</table>\n",
       "</div>"
      ],
      "text/plain": [
       "Symbols         AAPL        GOOG         GE        IBM       MSFT\n",
       "Date                                                             \n",
       "2009-12-31  6.503574  308.832428  10.493408  92.406113  23.801456\n",
       "2010-01-04  6.604801  312.204773  10.715343  93.500313  24.168472\n",
       "2010-01-05  6.616219  310.829926  10.770829  92.370834  24.176279\n",
       "2010-01-06  6.510980  302.994293  10.715343  91.770790  24.027906\n",
       "2010-01-07  6.498945  295.940735  11.270185  91.453102  23.778025"
      ]
     },
     "execution_count": 10,
     "metadata": {},
     "output_type": "execute_result"
    }
   ],
   "source": [
    "dfcomp = web.DataReader(['AAPL','GOOG',\"GE\",'IBM','MSFT'],'yahoo',start = start,end = end)['Adj Close']\n",
    "dfcomp.head()"
   ]
  },
  {
   "cell_type": "code",
   "execution_count": 11,
   "metadata": {},
   "outputs": [
    {
     "data": {
      "text/html": [
       "<div>\n",
       "<style scoped>\n",
       "    .dataframe tbody tr th:only-of-type {\n",
       "        vertical-align: middle;\n",
       "    }\n",
       "\n",
       "    .dataframe tbody tr th {\n",
       "        vertical-align: top;\n",
       "    }\n",
       "\n",
       "    .dataframe thead th {\n",
       "        text-align: right;\n",
       "    }\n",
       "</style>\n",
       "<table border=\"1\" class=\"dataframe\">\n",
       "  <thead>\n",
       "    <tr style=\"text-align: right;\">\n",
       "      <th>Symbols</th>\n",
       "      <th>AAPL</th>\n",
       "      <th>GOOG</th>\n",
       "      <th>GE</th>\n",
       "      <th>IBM</th>\n",
       "      <th>MSFT</th>\n",
       "    </tr>\n",
       "    <tr>\n",
       "      <th>Date</th>\n",
       "      <th></th>\n",
       "      <th></th>\n",
       "      <th></th>\n",
       "      <th></th>\n",
       "      <th></th>\n",
       "    </tr>\n",
       "  </thead>\n",
       "  <tbody>\n",
       "    <tr>\n",
       "      <th>2009-12-31</th>\n",
       "      <td>NaN</td>\n",
       "      <td>NaN</td>\n",
       "      <td>NaN</td>\n",
       "      <td>NaN</td>\n",
       "      <td>NaN</td>\n",
       "    </tr>\n",
       "    <tr>\n",
       "      <th>2010-01-04</th>\n",
       "      <td>0.015565</td>\n",
       "      <td>0.010920</td>\n",
       "      <td>0.021150</td>\n",
       "      <td>0.011841</td>\n",
       "      <td>0.015420</td>\n",
       "    </tr>\n",
       "    <tr>\n",
       "      <th>2010-01-05</th>\n",
       "      <td>0.001729</td>\n",
       "      <td>-0.004404</td>\n",
       "      <td>0.005178</td>\n",
       "      <td>-0.012080</td>\n",
       "      <td>0.000323</td>\n",
       "    </tr>\n",
       "    <tr>\n",
       "      <th>2010-01-06</th>\n",
       "      <td>-0.015906</td>\n",
       "      <td>-0.025209</td>\n",
       "      <td>-0.005152</td>\n",
       "      <td>-0.006496</td>\n",
       "      <td>-0.006137</td>\n",
       "    </tr>\n",
       "    <tr>\n",
       "      <th>2010-01-07</th>\n",
       "      <td>-0.001848</td>\n",
       "      <td>-0.023280</td>\n",
       "      <td>0.051780</td>\n",
       "      <td>-0.003462</td>\n",
       "      <td>-0.010400</td>\n",
       "    </tr>\n",
       "  </tbody>\n",
       "</table>\n",
       "</div>"
      ],
      "text/plain": [
       "Symbols         AAPL      GOOG        GE       IBM      MSFT\n",
       "Date                                                        \n",
       "2009-12-31       NaN       NaN       NaN       NaN       NaN\n",
       "2010-01-04  0.015565  0.010920  0.021150  0.011841  0.015420\n",
       "2010-01-05  0.001729 -0.004404  0.005178 -0.012080  0.000323\n",
       "2010-01-06 -0.015906 -0.025209 -0.005152 -0.006496 -0.006137\n",
       "2010-01-07 -0.001848 -0.023280  0.051780 -0.003462 -0.010400"
      ]
     },
     "execution_count": 11,
     "metadata": {},
     "output_type": "execute_result"
    }
   ],
   "source": [
    "ratecomp = dfcomp.pct_change()\n",
    "ratecomp.head()"
   ]
  },
  {
   "cell_type": "markdown",
   "metadata": {},
   "source": [
    "# Correlation Analysis — Does one competitor affect others?"
   ]
  },
  {
   "cell_type": "code",
   "execution_count": 12,
   "metadata": {},
   "outputs": [
    {
     "data": {
      "text/html": [
       "<div>\n",
       "<style scoped>\n",
       "    .dataframe tbody tr th:only-of-type {\n",
       "        vertical-align: middle;\n",
       "    }\n",
       "\n",
       "    .dataframe tbody tr th {\n",
       "        vertical-align: top;\n",
       "    }\n",
       "\n",
       "    .dataframe thead th {\n",
       "        text-align: right;\n",
       "    }\n",
       "</style>\n",
       "<table border=\"1\" class=\"dataframe\">\n",
       "  <thead>\n",
       "    <tr style=\"text-align: right;\">\n",
       "      <th>Symbols</th>\n",
       "      <th>AAPL</th>\n",
       "      <th>GOOG</th>\n",
       "      <th>GE</th>\n",
       "      <th>IBM</th>\n",
       "      <th>MSFT</th>\n",
       "    </tr>\n",
       "    <tr>\n",
       "      <th>Symbols</th>\n",
       "      <th></th>\n",
       "      <th></th>\n",
       "      <th></th>\n",
       "      <th></th>\n",
       "      <th></th>\n",
       "    </tr>\n",
       "  </thead>\n",
       "  <tbody>\n",
       "    <tr>\n",
       "      <th>AAPL</th>\n",
       "      <td>1.000000</td>\n",
       "      <td>0.529005</td>\n",
       "      <td>0.362166</td>\n",
       "      <td>0.450495</td>\n",
       "      <td>0.554768</td>\n",
       "    </tr>\n",
       "    <tr>\n",
       "      <th>GOOG</th>\n",
       "      <td>0.529005</td>\n",
       "      <td>1.000000</td>\n",
       "      <td>0.372425</td>\n",
       "      <td>0.472247</td>\n",
       "      <td>0.609006</td>\n",
       "    </tr>\n",
       "    <tr>\n",
       "      <th>GE</th>\n",
       "      <td>0.362166</td>\n",
       "      <td>0.372425</td>\n",
       "      <td>1.000000</td>\n",
       "      <td>0.516452</td>\n",
       "      <td>0.402625</td>\n",
       "    </tr>\n",
       "    <tr>\n",
       "      <th>IBM</th>\n",
       "      <td>0.450495</td>\n",
       "      <td>0.472247</td>\n",
       "      <td>0.516452</td>\n",
       "      <td>1.000000</td>\n",
       "      <td>0.545457</td>\n",
       "    </tr>\n",
       "    <tr>\n",
       "      <th>MSFT</th>\n",
       "      <td>0.554768</td>\n",
       "      <td>0.609006</td>\n",
       "      <td>0.402625</td>\n",
       "      <td>0.545457</td>\n",
       "      <td>1.000000</td>\n",
       "    </tr>\n",
       "  </tbody>\n",
       "</table>\n",
       "</div>"
      ],
      "text/plain": [
       "Symbols      AAPL      GOOG        GE       IBM      MSFT\n",
       "Symbols                                                  \n",
       "AAPL     1.000000  0.529005  0.362166  0.450495  0.554768\n",
       "GOOG     0.529005  1.000000  0.372425  0.472247  0.609006\n",
       "GE       0.362166  0.372425  1.000000  0.516452  0.402625\n",
       "IBM      0.450495  0.472247  0.516452  1.000000  0.545457\n",
       "MSFT     0.554768  0.609006  0.402625  0.545457  1.000000"
      ]
     },
     "execution_count": 12,
     "metadata": {},
     "output_type": "execute_result"
    }
   ],
   "source": [
    "corr = ratecomp.corr()\n",
    "corr.head()"
   ]
  },
  {
   "cell_type": "code",
   "execution_count": 13,
   "metadata": {},
   "outputs": [
    {
     "data": {
      "text/plain": [
       "<matplotlib.colorbar.Colorbar at 0x2c8cd74d348>"
      ]
     },
     "execution_count": 13,
     "metadata": {},
     "output_type": "execute_result"
    },
    {
     "data": {
      "image/png": "[encoded data removed]",
      "text/plain": [
       "<Figure size 432x288 with 2 Axes>"
      ]
     },
     "metadata": {},
     "output_type": "display_data"
    }
   ],
   "source": [
    "plt.imshow(corr ,interpolation = 'none')\n",
    "plt.colorbar()"
   ]
  },
  {
   "cell_type": "markdown",
   "metadata": {},
   "source": [
    "Stocks Returns Rate and Risk"
   ]
  },
  {
   "cell_type": "code",
   "execution_count": 14,
   "metadata": {},
   "outputs": [
    {
     "data": {
      "image/png": "[encoded data removed]",
      "text/plain": [
       "<Figure size 432x288 with 1 Axes>"
      ]
     },
     "metadata": {},
     "output_type": "display_data"
    }
   ],
   "source": [
    "plt.scatter(ratecomp.mean(),ratecomp.std())\n",
    "for label, x,y in zip(ratecomp.columns,ratecomp.mean(),ratecomp.std()):\n",
    "    plt.annotate(\n",
    "    label,\n",
    "    xy = (x,y),xytext = (20,-20),\n",
    "        textcoords = 'offset points',ha = 'right',va = 'bottom',\n",
    "        bbox = dict(boxstyle = 'round,pad= 0.5',fc = 'yellow'),\n",
    "        arrowprops = dict(arrowstyle = '->', connectionstyle = 'arc3,rad=0'))"
   ]
  },
  {
   "cell_type": "markdown",
   "metadata": {},
   "source": [
    "## India-News-Headlines file imported and doing Numerical Anaylsis"
   ]
  },
  {
   "cell_type": "code",
   "execution_count": 15,
   "metadata": {},
   "outputs": [],
   "source": [
    "data = pd.read_csv(r\"C:\\Users\\trinkesh\\Downloads\\headlines.csv\")"
   ]
  },
  {
   "cell_type": "code",
   "execution_count": 16,
   "metadata": {},
   "outputs": [
    {
     "data": {
      "text/html": [
       "<div>\n",
       "<style scoped>\n",
       "    .dataframe tbody tr th:only-of-type {\n",
       "        vertical-align: middle;\n",
       "    }\n",
       "\n",
       "    .dataframe tbody tr th {\n",
       "        vertical-align: top;\n",
       "    }\n",
       "\n",
       "    .dataframe thead th {\n",
       "        text-align: right;\n",
       "    }\n",
       "</style>\n",
       "<table border=\"1\" class=\"dataframe\">\n",
       "  <thead>\n",
       "    <tr style=\"text-align: right;\">\n",
       "      <th></th>\n",
       "      <th>publish_date</th>\n",
       "      <th>headline_category</th>\n",
       "      <th>headline_text</th>\n",
       "    </tr>\n",
       "  </thead>\n",
       "  <tbody>\n",
       "    <tr>\n",
       "      <th>0</th>\n",
       "      <td>20010101</td>\n",
       "      <td>sports.wwe</td>\n",
       "      <td>win over cena satisfying but defeating underta...</td>\n",
       "    </tr>\n",
       "    <tr>\n",
       "      <th>1</th>\n",
       "      <td>20010102</td>\n",
       "      <td>unknown</td>\n",
       "      <td>Status quo will not be disturbed at Ayodhya; s...</td>\n",
       "    </tr>\n",
       "    <tr>\n",
       "      <th>2</th>\n",
       "      <td>20010102</td>\n",
       "      <td>unknown</td>\n",
       "      <td>Fissures in Hurriyat over Pak visit</td>\n",
       "    </tr>\n",
       "    <tr>\n",
       "      <th>3</th>\n",
       "      <td>20010102</td>\n",
       "      <td>unknown</td>\n",
       "      <td>America's unwanted heading for India?</td>\n",
       "    </tr>\n",
       "    <tr>\n",
       "      <th>4</th>\n",
       "      <td>20010102</td>\n",
       "      <td>unknown</td>\n",
       "      <td>For bigwigs; it is destination Goa</td>\n",
       "    </tr>\n",
       "  </tbody>\n",
       "</table>\n",
       "</div>"
      ],
      "text/plain": [
       "   publish_date headline_category  \\\n",
       "0      20010101        sports.wwe   \n",
       "1      20010102           unknown   \n",
       "2      20010102           unknown   \n",
       "3      20010102           unknown   \n",
       "4      20010102           unknown   \n",
       "\n",
       "                                       headline_text  \n",
       "0  win over cena satisfying but defeating underta...  \n",
       "1  Status quo will not be disturbed at Ayodhya; s...  \n",
       "2                Fissures in Hurriyat over Pak visit  \n",
       "3              America's unwanted heading for India?  \n",
       "4                 For bigwigs; it is destination Goa  "
      ]
     },
     "execution_count": 16,
     "metadata": {},
     "output_type": "execute_result"
    }
   ],
   "source": [
    "data.head()"
   ]
  },
  {
   "cell_type": "code",
   "execution_count": 17,
   "metadata": {},
   "outputs": [
    {
     "data": {
      "text/html": [
       "<div>\n",
       "<style scoped>\n",
       "    .dataframe tbody tr th:only-of-type {\n",
       "        vertical-align: middle;\n",
       "    }\n",
       "\n",
       "    .dataframe tbody tr th {\n",
       "        vertical-align: top;\n",
       "    }\n",
       "\n",
       "    .dataframe thead th {\n",
       "        text-align: right;\n",
       "    }\n",
       "</style>\n",
       "<table border=\"1\" class=\"dataframe\">\n",
       "  <thead>\n",
       "    <tr style=\"text-align: right;\">\n",
       "      <th></th>\n",
       "      <th>publish_date</th>\n",
       "      <th>headline_category</th>\n",
       "      <th>headline_text</th>\n",
       "    </tr>\n",
       "  </thead>\n",
       "  <tbody>\n",
       "    <tr>\n",
       "      <th>1048570</th>\n",
       "      <td>20110207</td>\n",
       "      <td>sports.icc-world-cup-2015</td>\n",
       "      <td>Banned trio summoned by Pakistan govt over fix...</td>\n",
       "    </tr>\n",
       "    <tr>\n",
       "      <th>1048571</th>\n",
       "      <td>20110207</td>\n",
       "      <td>sports.more-sports.others</td>\n",
       "      <td>Nadal pips Messi to bag Laureus 'World Sportsm...</td>\n",
       "    </tr>\n",
       "    <tr>\n",
       "      <th>1048572</th>\n",
       "      <td>20110207</td>\n",
       "      <td>city.patna</td>\n",
       "      <td>Central team to visit Kutku dam in Bihar</td>\n",
       "    </tr>\n",
       "    <tr>\n",
       "      <th>1048573</th>\n",
       "      <td>20110207</td>\n",
       "      <td>city.bhubaneswar</td>\n",
       "      <td>Red bandh evokes lukewarm response</td>\n",
       "    </tr>\n",
       "    <tr>\n",
       "      <th>1048574</th>\n",
       "      <td>20110207</td>\n",
       "      <td>city.bhubaneswar</td>\n",
       "      <td>De-worming drug for tribal children</td>\n",
       "    </tr>\n",
       "  </tbody>\n",
       "</table>\n",
       "</div>"
      ],
      "text/plain": [
       "         publish_date          headline_category  \\\n",
       "1048570      20110207  sports.icc-world-cup-2015   \n",
       "1048571      20110207  sports.more-sports.others   \n",
       "1048572      20110207                 city.patna   \n",
       "1048573      20110207           city.bhubaneswar   \n",
       "1048574      20110207           city.bhubaneswar   \n",
       "\n",
       "                                             headline_text  \n",
       "1048570  Banned trio summoned by Pakistan govt over fix...  \n",
       "1048571  Nadal pips Messi to bag Laureus 'World Sportsm...  \n",
       "1048572           Central team to visit Kutku dam in Bihar  \n",
       "1048573                 Red bandh evokes lukewarm response  \n",
       "1048574                De-worming drug for tribal children  "
      ]
     },
     "execution_count": 17,
     "metadata": {},
     "output_type": "execute_result"
    }
   ],
   "source": [
    "data.tail()"
   ]
  },
  {
   "cell_type": "code",
   "execution_count": 18,
   "metadata": {},
   "outputs": [
    {
     "name": "stdout",
     "output_type": "stream",
     "text": [
      "datas shape (1048575, 3)\n",
      "<class 'pandas.core.frame.DataFrame'>\n",
      "RangeIndex: 1048575 entries, 0 to 1048574\n",
      "Data columns (total 3 columns):\n",
      " #   Column             Non-Null Count    Dtype \n",
      "---  ------             --------------    ----- \n",
      " 0   publish_date       1048575 non-null  int64 \n",
      " 1   headline_category  1048575 non-null  object\n",
      " 2   headline_text      1048575 non-null  object\n",
      "dtypes: int64(1), object(2)\n",
      "memory usage: 24.0+ MB\n",
      "None \n",
      "\n",
      "       publish_date\n",
      "count  1.048575e+06\n",
      "mean   2.006565e+07\n",
      "std    3.057777e+04\n",
      "min    2.001010e+07\n",
      "25%    2.003121e+07\n",
      "50%    2.007122e+07\n",
      "75%    2.009080e+07\n",
      "max    2.011021e+07 \n",
      "\n",
      "publish_date         0\n",
      "headline_category    0\n",
      "headline_text        0\n",
      "dtype: int64 \n",
      "\n",
      "AxesSubplot(0.125,0.125;0.62x0.755)\n",
      "there are no null values\n"
     ]
    },
    {
     "data": {
      "image/png": "[encoded data removed]",
      "text/plain": [
       "<Figure size 432x288 with 2 Axes>"
      ]
     },
     "metadata": {},
     "output_type": "display_data"
    }
   ],
   "source": [
    "print(\"datas shape\",data.shape)\n",
    "print(data.info(),\"\\n\")\n",
    "print(data.describe(),\"\\n\")\n",
    "print(data.isnull().sum(),\"\\n\")\n",
    "print(sns.heatmap(data.isnull()))\n",
    "print(\"there are no null values\")"
   ]
  },
  {
   "cell_type": "code",
   "execution_count": 19,
   "metadata": {},
   "outputs": [
    {
     "name": "stdout",
     "output_type": "stream",
     "text": [
      "india                                        143710\n",
      "unknown                                      134195\n",
      "business.india-business                       50144\n",
      "city.delhi                                    46247\n",
      "city.mumbai                                   42581\n",
      "                                              ...  \n",
      "entertainment.beauty-pageants.news                1\n",
      "sports.nba                                        1\n",
      "tech.more-gadgets                                 1\n",
      "life-style.books.features                         1\n",
      "sports.cricket.west-indies-in-new-zealand         1\n",
      "Name: headline_category, Length: 397, dtype: int64 \n",
      "\n",
      "name of unique values in headline category ['sports.wwe' 'unknown' 'entertainment.hindi.bollywood' 'india'\n",
      " 'city.bengaluru' 'city.patna' 'business.india-business'\n",
      " 'entertainment.english.hollywood' 'city.delhi' 'edit-page'\n",
      " 'sports.cricket.india-domestic.ranji-trophy' 'sports.football'\n",
      " 'only-in-america' 'city.ahmedabad' 'jugular-vein' 'swaminomics'\n",
      " 'city.thiruvananthapuram' 'city.pune' 'home.science' 'city.mumbai'\n",
      " 'city.chandigarh' 'city.lucknow' 'city.kolkata' 'city.hyderabad'\n",
      " 'cricket' 'business.international-business' 'city' 'removed'\n",
      " 'home.sunday-times.deep-focus' 'bombay-times'\n",
      " 'home.sunday-times.all-that-matters' 'home.education' 'pune-times'\n",
      " 'calcutta-times' 'hyderabad-times' 'bangalore-times' 'delhi-times'\n",
      " 'lucknow-times' 'ahmedabad-times' 'citizens-grievances' 'anti-terror-law'\n",
      " 'hyderabad.local-sports' 'sports.cricket.sri-lanka-in-india'\n",
      " 'sports.hockey' 'blogs' 'home.sunday-times' 'food-facts' 'recipes'\n",
      " 'business' 'ayodhya-imbroglio' 'afghan-children' 'astrology.horoscope'\n",
      " 'world.us' 'world.middle-east' 'gadgets-news' 'sports.off-the-field'\n",
      " 'world.europe' 'city.chennai' 'world.china' 'world.pakistan'\n",
      " 'life-style.events' 'sino-indian-ties' 'news' 'analysis' 'interviews'\n",
      " 'sports.icc-world-cup-2015' 'tech.tech-news' 'ambani' 'ahmedabad-events'\n",
      " 'tendulkar' 'pms-us-visit' 'life-style.relationships.man-woman'\n",
      " 'sports.tennis' 'sports.badminton' 'world.south-asia'\n",
      " 'business.mf-simplified.mf-news' 'tech.mobiles' 'tech.more-gadgets'\n",
      " 'world.rest-of-world' 'life-style.food.recipes' 'life-style.home-garden'\n",
      " 'nri.community' 'tech.computing' 'city.bareilly' 'life-style.beauty'\n",
      " 'tech.social' 'tech.pcs' 'all-colour-edition' 'columbia-crash'\n",
      " 'war-on-iraq.news' 'war-on-iraq.opinion' 'talk-radio' 'sars-scare.news'\n",
      " 'life-style.health-fitness.health' 'videos' 'indo-pak-monitor.news'\n",
      " 'pm-on-europe-tour.news' 'sports.new-zealand-in-india-2016.interviews'\n",
      " 'advanis-us-visit' 'pm-on-china-visit.news'\n",
      " 'sports.new-zealand-in-india-2016' 'delhi' 'chhattisgarh' 'rajasthan'\n",
      " 'madhya-pradesh' 'pakistan-postcard' 'young-india-votes.talking-point'\n",
      " 'young-india-votes.deep-focus' 'nrs-2003'\n",
      " 'sports.cricket.england-in-australia' 'world' 'sports.cricket.news'\n",
      " 'sports.cricket.india-in-south-africa' 'sports.cricket.ipl' 'world.uk'\n",
      " 'sports.football.indian-super-league' 'sports.more-sports.others'\n",
      " 'young-india-votes.from-the-states' 'young-india-votes.aaj-ka-neta'\n",
      " 'young-india-votes.news' 'iim-fee-row' 'city.aurangabad'\n",
      " 'life-style.fashion.celeb-style'\n",
      " 'sports.cricket.west-indies-in-new-zealand'\n",
      " 'young-india-votes.gallup-poll' 'venus-transit' 'tech.it-services'\n",
      " 'birla-will-saga' 'iraq-hostage-drama' 'mumbai' 'pune' 'bangalore'\n",
      " 'hyderabad' 'tv.news.hindi' 'baroda' 'entertainment'\n",
      " 'sports.football.i-league' 'sports.football.epl'\n",
      " 'life-style.health-fitness.fitness' 'life-style.books.features'\n",
      " 'bachi-karkaria.erratica' 'sa-aiyar.swaminomics'\n",
      " 'gurcharan-das.men-ideas' 'jug-suraiya.jugular-vein' 'formula-one'\n",
      " 'sports.golf' 'top-stories' 'top-headlines'\n",
      " 'chidanand-rajghatta.indiaspora' 'shobhaa-de.politically-incorrect'\n",
      " 'entertainment.hindi.music.news' 'entertainment.events.kolkata'\n",
      " 'friendship-day' 'tech.jobs' 'entertainment.hindi.movie-review'\n",
      " 'new-test-audio' 'entertainment.english.movie-review' 'city.nagpur'\n",
      " 'editorialt' 'comunistst' 'shashi-tharoor.shashi-on-sunday'\n",
      " 'life-style.health-fitness.health-news' 'life-style.food.food-reviews'\n",
      " 'gadgets-special' 'shop' 'life-style.fashion.shows'\n",
      " 'life-style.fashion.trends' 'life-style.fashion.designers'\n",
      " 'chidanand-rajghatta.desiderata' 'tech.how-to' 'sports' 'specials'\n",
      " 'indians-abroad' 'ad-links' 'movie-reviews' 'leisure' 'heads-and-tales'\n",
      " 'also-read' 'special-coverage.other-specials' 'missile-game'\n",
      " 'pune-pluses' 'mumbai-pluses' 'delhi-ncr-pluses' 'twin-city-pluses'\n",
      " 'nagpur-pluses' 'tech' 'goa-plus' 'madras-plus' 'gujarat-pluses'\n",
      " 'north-east-pluses' 'up-pluses' 'maharashtra-pluses' 'speak-out'\n",
      " 'nagpur-times' 'mp-pluses' 'west-bengal-pluses'\n",
      " 'tarun-vijay.the-right-view' 'actresses' 'history'\n",
      " 'entertainment.hindi.music.music-reviews' 'world.mad-mad-world'\n",
      " 'entertainment.tamil.movies.previews'\n",
      " 'entertainment.telugu.movies.previews' 'business.personal-finance'\n",
      " 'entertainment.tamil.movie-reviews' 'others.previews'\n",
      " 'entertainment.kannada.movies.previews' 'other-racing.a1-gp'\n",
      " 'entertainment.bengali.movie-reviews' 'first-look'\n",
      " 'entertainment.kannada.movie-reviews' 'entertainment.events.bangalore'\n",
      " 'entertainment.events.others' 'entertainment.events.delhi'\n",
      " 'entertainment.events' 'entertainment.events.hyderabad'\n",
      " 'entertainment.events.mumbai' 'swapan-dasgupta.right-wrong' 'auto'\n",
      " 'sports.ipl-2015.news' 'sports.nba' 'sports.boxing' 'tech.reviews'\n",
      " 'city.bhopal' 'home.environment.global-warming'\n",
      " 'home.environment.developmental-issues' 'home.environment.flora-fauna'\n",
      " 'home.environment.wild-wacky' 'home.environment.pollution'\n",
      " 'home.environment.the-good-earth' 'city.vadodara' 'tech.gaming'\n",
      " 'jug-suraiya.second-opinion' 'life-style' 'other-racing.others'\n",
      " 'life-style.relationships.parenting' 'life-style.relationships.work'\n",
      " 'entertainment.events.chennai' 'vinita-dawra-nangia' 'city.jaipur'\n",
      " 'election-2008' 'city.goa' 'entertainment.events.goa' 'matches-results'\n",
      " 'photos' 'teams' 'santosh-desai.city-city-bang-bang' 'features'\n",
      " 'text-after-pic' 'stories' 'sports.tennis.interviews' 'subverse'\n",
      " 'sports.more-sports.shooting' 'sports.more-sports.snooker.billiards'\n",
      " 'sports.golf.interviews' 'olympics' 'sports.football.interviews'\n",
      " 'life-style.health-fitness.diet' 'young-turks' 'indias-vision' 'trivia'\n",
      " 'stars-speak' 'sports.more-sports.athletics' 'hot-on-the-web'\n",
      " 'sports.more-sports.wrestling' 'thirupuram' 'past-winners'\n",
      " 'player-profile' 'players-to-watch' 'players-profiles' 'jaipur' 'kolkata'\n",
      " 'nagpur' 'ahmedabad' 'chandigarh' 'goa' 'arsenal' 'everton' 'liverpool'\n",
      " 'bolton-wanderers' 'manchester-united' 'manchester-city' 'stoke-city'\n",
      " 'newcastle-united' 'chelsea' 'fulham' 'aston-villa' 'blackburn-rovers'\n",
      " 'sports.headline2' 'sports.headline3' 'sports.headline4'\n",
      " 'sports.headline5' 'sunderland' 'tottenham-hotspur'\n",
      " 'west-bromwich-albion' 'sports.football.epl.past-winners'\n",
      " 'mj-akbar.the-siege-within' 'wigan-athletic' 'advisory'\n",
      " 'sports.headline1' 'other-racing.moto-gp' 'sports.more-sports.cycling'\n",
      " 'bobilli-vijay-kumar' 'circuits.formula-one' 'more-stories'\n",
      " 'news.hardware' 'regional.tamil' 'entertainment.telugu.movie-reviews'\n",
      " 'city.thane' '2008-in-pictures' 'top-news-of-2008' 'top-videos'\n",
      " '2011-top-stories' 'sports.tennis.international-premier-tennis-league'\n",
      " 'city.hubballi' 'city.mangaluru' 'city.mysuru' 'city.rajkot' 'city.surat'\n",
      " 'city.kanpur' 'city.varanasi' 'city.allahabad' 'city.ludhiana'\n",
      " 'indian-challenges' 'regional' 'life-style.specials' 'city.guwahati'\n",
      " 'entertainment.tamil.movies.news' 'others.news-interviews'\n",
      " 'regional.kannada' 'entertainment.kannada.movies.news' 'young-guns'\n",
      " 'city.bhubaneswar' 'entertainment.bengali.movies.news' 'city.ranchi'\n",
      " 'quote-of-the-day' 'complete-results-2009' 'star-candidates'\n",
      " 'did-you-know' 'campaign-trail' 'reporters-diary' 'party-manifestos'\n",
      " 'drivers' 'entertainment.telugu.movies.news' 'rupee-symbol-survey'\n",
      " 'people' 'venues' 'spirituality' 'off-the-field' 'sports.headline6'\n",
      " 'schedule' 'life-style.people' 'schedule-results' 'travel'\n",
      " 'speaking-tree' 'life-style.fashion.specials' 'silver-jubilee'\n",
      " 'life-style.debate' 'indian-challenge' 'life-style.health-fitness'\n",
      " 'entertainment.movies' 'scorecard-and-statistics'\n",
      " 'life-style.food.drinks-corner' 'life-style.food.specials'\n",
      " 'entertainment.marathi.movie-reviews' 'news-features' 'teams-profile'\n",
      " 'punjab' 'sports.chess' 'sports.racing' 'life-style.spotlight'\n",
      " 'life-style.relationships.specials' 'life-style.health-fitness.specials'\n",
      " 'world-cup-venues' 'other-top-stories' '2010-stars' 'teams-players'\n",
      " 'queens-baton-relay' 'home.environment' 'cwg-history'\n",
      " 'sports.football.epl.interviews' 'entertainment.hindi.top-10'\n",
      " 'india-hopes' 'cwg-stars' 'india-news' 'apply-for' 'lodge-a-complaint'\n",
      " 'certificates' 'miscellaneous' 'city.gurgaon'\n",
      " 'entertainment.hindi.music.music-events' 'india-challenges'\n",
      " 'entertainment.beauty-pageants.news'\n",
      " 'entertainment.bengali.movies.previews' 'down-memory-lane'\n",
      " 'entertainment.hindi.music.singer-of-the-week' 'profiles.india-profiles']\n",
      "tottal of unique values \n"
     ]
    },
    {
     "name": "stdout",
     "output_type": "stream",
     "text": [
      " 397\n"
     ]
    }
   ],
   "source": [
    "print(data.headline_category.value_counts(),\"\\n\")\n",
    "print(\"name of unique values in headline category\",data.headline_category.unique())\n",
    "print(\"tottal of unique values \\n\",data.headline_category.nunique())"
   ]
  },
  {
   "cell_type": "code",
   "execution_count": 20,
   "metadata": {},
   "outputs": [],
   "source": [
    "from datetime import datetime"
   ]
  },
  {
   "cell_type": "code",
   "execution_count": 21,
   "metadata": {},
   "outputs": [],
   "source": [
    "data[\"publish_date\"] = pd.to_datetime(data['publish_date'], format='%Y%m%d')"
   ]
  },
  {
   "cell_type": "code",
   "execution_count": 22,
   "metadata": {},
   "outputs": [
    {
     "data": {
      "text/html": [
       "<div>\n",
       "<style scoped>\n",
       "    .dataframe tbody tr th:only-of-type {\n",
       "        vertical-align: middle;\n",
       "    }\n",
       "\n",
       "    .dataframe tbody tr th {\n",
       "        vertical-align: top;\n",
       "    }\n",
       "\n",
       "    .dataframe thead th {\n",
       "        text-align: right;\n",
       "    }\n",
       "</style>\n",
       "<table border=\"1\" class=\"dataframe\">\n",
       "  <thead>\n",
       "    <tr style=\"text-align: right;\">\n",
       "      <th></th>\n",
       "      <th>publish_date</th>\n",
       "      <th>headline_category</th>\n",
       "      <th>headline_text</th>\n",
       "    </tr>\n",
       "  </thead>\n",
       "  <tbody>\n",
       "    <tr>\n",
       "      <th>0</th>\n",
       "      <td>2001-01-01</td>\n",
       "      <td>sports.wwe</td>\n",
       "      <td>win over cena satisfying but defeating underta...</td>\n",
       "    </tr>\n",
       "    <tr>\n",
       "      <th>1</th>\n",
       "      <td>2001-01-02</td>\n",
       "      <td>unknown</td>\n",
       "      <td>Status quo will not be disturbed at Ayodhya; s...</td>\n",
       "    </tr>\n",
       "    <tr>\n",
       "      <th>2</th>\n",
       "      <td>2001-01-02</td>\n",
       "      <td>unknown</td>\n",
       "      <td>Fissures in Hurriyat over Pak visit</td>\n",
       "    </tr>\n",
       "    <tr>\n",
       "      <th>3</th>\n",
       "      <td>2001-01-02</td>\n",
       "      <td>unknown</td>\n",
       "      <td>America's unwanted heading for India?</td>\n",
       "    </tr>\n",
       "    <tr>\n",
       "      <th>4</th>\n",
       "      <td>2001-01-02</td>\n",
       "      <td>unknown</td>\n",
       "      <td>For bigwigs; it is destination Goa</td>\n",
       "    </tr>\n",
       "  </tbody>\n",
       "</table>\n",
       "</div>"
      ],
      "text/plain": [
       "  publish_date headline_category  \\\n",
       "0   2001-01-01        sports.wwe   \n",
       "1   2001-01-02           unknown   \n",
       "2   2001-01-02           unknown   \n",
       "3   2001-01-02           unknown   \n",
       "4   2001-01-02           unknown   \n",
       "\n",
       "                                       headline_text  \n",
       "0  win over cena satisfying but defeating underta...  \n",
       "1  Status quo will not be disturbed at Ayodhya; s...  \n",
       "2                Fissures in Hurriyat over Pak visit  \n",
       "3              America's unwanted heading for India?  \n",
       "4                 For bigwigs; it is destination Goa  "
      ]
     },
     "execution_count": 22,
     "metadata": {},
     "output_type": "execute_result"
    }
   ],
   "source": [
    "data.head()"
   ]
  },
  {
   "cell_type": "code",
   "execution_count": 23,
   "metadata": {},
   "outputs": [],
   "source": [
    "from nltk.corpus import stopwords\n",
    "st = stopwords.words(\"english\")"
   ]
  },
  {
   "cell_type": "code",
   "execution_count": 24,
   "metadata": {},
   "outputs": [
    {
     "name": "stdout",
     "output_type": "stream",
     "text": [
      "['i', 'me', 'my', 'myself', 'we', 'our', 'ours', 'ourselves', 'you', \"you're\", \"you've\", \"you'll\", \"you'd\", 'your', 'yours', 'yourself', 'yourselves', 'he', 'him', 'his', 'himself', 'she', \"she's\", 'her', 'hers', 'herself', 'it', \"it's\", 'its', 'itself', 'they', 'them', 'their', 'theirs', 'themselves', 'what', 'which', 'who', 'whom', 'this', 'that', \"that'll\", 'these', 'those', 'am', 'is', 'are', 'was', 'were', 'be', 'been', 'being', 'have', 'has', 'had', 'having', 'do', 'does', 'did', 'doing', 'a', 'an', 'the', 'and', 'but', 'if', 'or', 'because', 'as', 'until', 'while', 'of', 'at', 'by', 'for', 'with', 'about', 'against', 'between', 'into', 'through', 'during', 'before', 'after', 'above', 'below', 'to', 'from', 'up', 'down', 'in', 'out', 'on', 'off', 'over', 'under', 'again', 'further', 'then', 'once', 'here', 'there', 'when', 'where', 'why', 'how', 'all', 'any', 'both', 'each', 'few', 'more', 'most', 'other', 'some', 'such', 'no', 'nor', 'not', 'only', 'own', 'same', 'so', 'than', 'too', 'very', 's', 't', 'can', 'will', 'just', 'don', \"don't\", 'should', \"should've\", 'now', 'd', 'll', 'm', 'o', 're', 've', 'y', 'ain', 'aren', \"aren't\", 'couldn', \"couldn't\", 'didn', \"didn't\", 'doesn', \"doesn't\", 'hadn', \"hadn't\", 'hasn', \"hasn't\", 'haven', \"haven't\", 'isn', \"isn't\", 'ma', 'mightn', \"mightn't\", 'mustn', \"mustn't\", 'needn', \"needn't\", 'shan', \"shan't\", 'shouldn', \"shouldn't\", 'wasn', \"wasn't\", 'weren', \"weren't\", 'won', \"won't\", 'wouldn', \"wouldn't\"]\n"
     ]
    }
   ],
   "source": [
    "print(st)"
   ]
  },
  {
   "cell_type": "code",
   "execution_count": 25,
   "metadata": {},
   "outputs": [],
   "source": [
    "data[\"headline_text\"] = data[\"headline_text\"].apply(lambda x: ' '.join([word for word in x.split() if word not in (st)]))"
   ]
  },
  {
   "cell_type": "code",
   "execution_count": 26,
   "metadata": {},
   "outputs": [
    {
     "data": {
      "text/plain": [
       "0          win cena satisfying defeating undertaker bigge...\n",
       "1                Status quo disturbed Ayodhya; says Vajpayee\n",
       "2                                Fissures Hurriyat Pak visit\n",
       "3                          America's unwanted heading India?\n",
       "4                               For bigwigs; destination Goa\n",
       "                                 ...                        \n",
       "1048570    Banned trio summoned Pakistan govt fixing scandal\n",
       "1048571    Nadal pips Messi bag Laureus 'World Sportsman ...\n",
       "1048572                   Central team visit Kutku dam Bihar\n",
       "1048573                   Red bandh evokes lukewarm response\n",
       "1048574                      De-worming drug tribal children\n",
       "Name: headline_text, Length: 1048575, dtype: object"
      ]
     },
     "execution_count": 26,
     "metadata": {},
     "output_type": "execute_result"
    }
   ],
   "source": [
    "data[\"headline_text\"]"
   ]
  },
  {
   "cell_type": "code",
   "execution_count": 27,
   "metadata": {},
   "outputs": [],
   "source": [
    "from nltk.stem import PorterStemmer\n",
    "ps = PorterStemmer()"
   ]
  },
  {
   "cell_type": "code",
   "execution_count": 28,
   "metadata": {},
   "outputs": [],
   "source": [
    "data[\"headline_text\"] = data[\"headline_text\"].apply(lambda x: ' '.join([ps.stem(word) for word in x.split()]))"
   ]
  },
  {
   "cell_type": "code",
   "execution_count": 29,
   "metadata": {},
   "outputs": [
    {
     "data": {
      "text/plain": [
       "0          win cena satisfi defeat undertak bigger roman ...\n",
       "1                     statu quo disturb ayodhya; say vajpaye\n",
       "2                                  fissur hurriyat pak visit\n",
       "3                                america' unwant head india?\n",
       "4                                    for bigwigs; destin goa\n",
       "                                 ...                        \n",
       "1048570            ban trio summon pakistan govt fix scandal\n",
       "1048571    nadal pip messi bag laureu 'world sportsman year'\n",
       "1048572                   central team visit kutku dam bihar\n",
       "1048573                      red bandh evok lukewarm respons\n",
       "1048574                         de-worm drug tribal children\n",
       "Name: headline_text, Length: 1048575, dtype: object"
      ]
     },
     "execution_count": 29,
     "metadata": {},
     "output_type": "execute_result"
    }
   ],
   "source": [
    "data[\"headline_text\"]"
   ]
  },
  {
   "cell_type": "code",
   "execution_count": 30,
   "metadata": {},
   "outputs": [],
   "source": [
    "data[\"headline_text\"] = data[\"headline_text\"].apply(lambda x: ' '.join(x.lower() for word in x.split()))"
   ]
  },
  {
   "cell_type": "code",
   "execution_count": 31,
   "metadata": {},
   "outputs": [
    {
     "data": {
      "text/plain": [
       "0          win cena satisfi defeat undertak bigger roman ...\n",
       "1          statu quo disturb ayodhya; say vajpaye statu q...\n",
       "2          fissur hurriyat pak visit fissur hurriyat pak ...\n",
       "3          america' unwant head india? america' unwant he...\n",
       "4          for bigwigs; destin goa for bigwigs; destin go...\n",
       "                                 ...                        \n",
       "1048570    ban trio summon pakistan govt fix scandal ban ...\n",
       "1048571    nadal pip messi bag laureu 'world sportsman ye...\n",
       "1048572    central team visit kutku dam bihar central tea...\n",
       "1048573    red bandh evok lukewarm respons red bandh evok...\n",
       "1048574    de-worm drug tribal children de-worm drug trib...\n",
       "Name: headline_text, Length: 1048575, dtype: object"
      ]
     },
     "execution_count": 31,
     "metadata": {},
     "output_type": "execute_result"
    }
   ],
   "source": [
    "data[\"headline_text\"]"
   ]
  },
  {
   "cell_type": "markdown",
   "metadata": {},
   "source": [
    "The next step is to remove punctuation, as it doesn’t add any extra information while treating text data. Therefore removing all instances of it will help us reduce the size of the training data."
   ]
  },
  {
   "cell_type": "code",
   "execution_count": 32,
   "metadata": {},
   "outputs": [
    {
     "data": {
      "text/plain": [
       "0          win cena satisfi defeat undertak bigger roman ...\n",
       "1          statu quo disturb ayodhya say vajpaye statu qu...\n",
       "2          fissur hurriyat pak visit fissur hurriyat pak ...\n",
       "3          america unwant head india america unwant head ...\n",
       "4          for bigwigs destin goa for bigwigs destin goa ...\n",
       "                                 ...                        \n",
       "1048570    ban trio summon pakistan govt fix scandal ban ...\n",
       "1048571    nadal pip messi bag laureu world sportsman yea...\n",
       "1048572    central team visit kutku dam bihar central tea...\n",
       "1048573    red bandh evok lukewarm respons red bandh evok...\n",
       "1048574    deworm drug tribal children deworm drug tribal...\n",
       "Name: headline_text, Length: 1048575, dtype: object"
      ]
     },
     "execution_count": 32,
     "metadata": {},
     "output_type": "execute_result"
    }
   ],
   "source": [
    "data[\"headline_text\"].str.replace('[^\\w\\s]','')"
   ]
  },
  {
   "cell_type": "code",
   "execution_count": 33,
   "metadata": {},
   "outputs": [
    {
     "data": {
      "text/html": [
       "<div>\n",
       "<style scoped>\n",
       "    .dataframe tbody tr th:only-of-type {\n",
       "        vertical-align: middle;\n",
       "    }\n",
       "\n",
       "    .dataframe tbody tr th {\n",
       "        vertical-align: top;\n",
       "    }\n",
       "\n",
       "    .dataframe thead th {\n",
       "        text-align: right;\n",
       "    }\n",
       "</style>\n",
       "<table border=\"1\" class=\"dataframe\">\n",
       "  <thead>\n",
       "    <tr style=\"text-align: right;\">\n",
       "      <th></th>\n",
       "      <th>publish_date</th>\n",
       "      <th>headline_category</th>\n",
       "      <th>headline_text</th>\n",
       "    </tr>\n",
       "  </thead>\n",
       "  <tbody>\n",
       "    <tr>\n",
       "      <th>0</th>\n",
       "      <td>2001-01-01</td>\n",
       "      <td>sports.wwe</td>\n",
       "      <td>win cena satisfi defeat undertak bigger roman ...</td>\n",
       "    </tr>\n",
       "    <tr>\n",
       "      <th>1</th>\n",
       "      <td>2001-01-02</td>\n",
       "      <td>unknown</td>\n",
       "      <td>statu quo disturb ayodhya; say vajpaye statu q...</td>\n",
       "    </tr>\n",
       "    <tr>\n",
       "      <th>2</th>\n",
       "      <td>2001-01-02</td>\n",
       "      <td>unknown</td>\n",
       "      <td>fissur hurriyat pak visit fissur hurriyat pak ...</td>\n",
       "    </tr>\n",
       "    <tr>\n",
       "      <th>3</th>\n",
       "      <td>2001-01-02</td>\n",
       "      <td>unknown</td>\n",
       "      <td>america' unwant head india? america' unwant he...</td>\n",
       "    </tr>\n",
       "    <tr>\n",
       "      <th>4</th>\n",
       "      <td>2001-01-02</td>\n",
       "      <td>unknown</td>\n",
       "      <td>for bigwigs; destin goa for bigwigs; destin go...</td>\n",
       "    </tr>\n",
       "  </tbody>\n",
       "</table>\n",
       "</div>"
      ],
      "text/plain": [
       "  publish_date headline_category  \\\n",
       "0   2001-01-01        sports.wwe   \n",
       "1   2001-01-02           unknown   \n",
       "2   2001-01-02           unknown   \n",
       "3   2001-01-02           unknown   \n",
       "4   2001-01-02           unknown   \n",
       "\n",
       "                                       headline_text  \n",
       "0  win cena satisfi defeat undertak bigger roman ...  \n",
       "1  statu quo disturb ayodhya; say vajpaye statu q...  \n",
       "2  fissur hurriyat pak visit fissur hurriyat pak ...  \n",
       "3  america' unwant head india? america' unwant he...  \n",
       "4  for bigwigs; destin goa for bigwigs; destin go...  "
      ]
     },
     "execution_count": 33,
     "metadata": {},
     "output_type": "execute_result"
    }
   ],
   "source": [
    "data.head(5)"
   ]
  },
  {
   "cell_type": "code",
   "execution_count": 34,
   "metadata": {},
   "outputs": [
    {
     "data": {
      "text/plain": [
       "publish_date         False\n",
       "headline_category    False\n",
       "headline_text        False\n",
       "dtype: bool"
      ]
     },
     "execution_count": 34,
     "metadata": {},
     "output_type": "execute_result"
    }
   ],
   "source": [
    "data.isna().any()"
   ]
  },
  {
   "cell_type": "code",
   "execution_count": 35,
   "metadata": {},
   "outputs": [
    {
     "data": {
      "text/plain": [
       "india                                        143710\n",
       "unknown                                      134195\n",
       "business.india-business                       50144\n",
       "city.delhi                                    46247\n",
       "city.mumbai                                   42581\n",
       "                                              ...  \n",
       "entertainment.beauty-pageants.news                1\n",
       "sports.nba                                        1\n",
       "tech.more-gadgets                                 1\n",
       "life-style.books.features                         1\n",
       "sports.cricket.west-indies-in-new-zealand         1\n",
       "Name: headline_category, Length: 397, dtype: int64"
      ]
     },
     "execution_count": 35,
     "metadata": {},
     "output_type": "execute_result"
    }
   ],
   "source": [
    "data[\"headline_category\"].value_counts()"
   ]
  },
  {
   "cell_type": "code",
   "execution_count": 36,
   "metadata": {},
   "outputs": [
    {
     "data": {
      "text/plain": [
       "sacr space sacr space                                                                                                                                                                                                                  52\n",
       "in pics: the week gone in pics: the week gone in pics: the week gone in pics: the week gone in pics: the week gone                                                                                                                     49\n",
       "youngest user fair cream youngest user fair cream youngest user fair cream youngest user fair cream                                                                                                                                    48\n",
       "citi round citi round                                                                                                                                                                                                                  45\n",
       "it' new kind 'rat'h race it' new kind 'rat'h race it' new kind 'rat'h race it' new kind 'rat'h race it' new kind 'rat'h race                                                                                                           43\n",
       "                                                                                                                                                                                                                                       ..\n",
       "sensex close 91 pt sensex close 91 pt sensex close 91 pt sensex close 91 pt                                                                                                                                                             1\n",
       "i'm 'angry; humiliated': shah rukh i'm 'angry; humiliated': shah rukh i'm 'angry; humiliated': shah rukh i'm 'angry; humiliated': shah rukh i'm 'angry; humiliated': shah rukh                                                          1\n",
       "pm want fast relief agricultur sector pm want fast relief agricultur sector pm want fast relief agricultur sector pm want fast relief agricultur sector pm want fast relief agricultur sector pm want fast relief agricultur sector     1\n",
       "use forc enforc bandh provok riot use forc enforc bandh provok riot use forc enforc bandh provok riot use forc enforc bandh provok riot use forc enforc bandh provok riot use forc enforc bandh provok riot                             1\n",
       "nasa probe land mar nasa probe land mar nasa probe land mar nasa probe land mar                                                                                                                                                         1\n",
       "Name: headline_text, Length: 970984, dtype: int64"
      ]
     },
     "execution_count": 36,
     "metadata": {},
     "output_type": "execute_result"
    }
   ],
   "source": [
    "data[\"headline_text\"].value_counts()"
   ]
  },
  {
   "cell_type": "code",
   "execution_count": 37,
   "metadata": {},
   "outputs": [
    {
     "data": {
      "text/plain": [
       "<matplotlib.axes._subplots.AxesSubplot at 0x2c8d9841248>"
      ]
     },
     "execution_count": 37,
     "metadata": {},
     "output_type": "execute_result"
    },
    {
     "data": {
      "image/png": "[encoded data removed]",
      "text/plain": [
       "<Figure size 432x288 with 1 Axes>"
      ]
     },
     "metadata": {},
     "output_type": "display_data"
    }
   ],
   "source": [
    "data[\"headline_text\"].str.len().hist()"
   ]
  },
  {
   "cell_type": "code",
   "execution_count": 38,
   "metadata": {},
   "outputs": [
    {
     "data": {
      "image/png": "[encoded data removed]",
      "text/plain": [
       "<Figure size 432x288 with 1 Axes>"
      ]
     },
     "metadata": {},
     "output_type": "display_data"
    }
   ],
   "source": [
    "data[\"headline_text\"].str.split().\\\n",
    "    apply(lambda x : [len(i) for i in x]).\\\n",
    "    map(lambda x: np.mean(x)).hist()\n",
    "plt.show()"
   ]
  },
  {
   "cell_type": "code",
   "execution_count": 39,
   "metadata": {},
   "outputs": [
    {
     "name": "stderr",
     "output_type": "stream",
     "text": [
      "[nltk_data] Downloading package stopwords to\n",
      "[nltk_data]     C:\\Users\\trinkesh\\AppData\\Roaming\\nltk_data...\n",
      "[nltk_data]   Package stopwords is already up-to-date!\n"
     ]
    }
   ],
   "source": [
    "import nltk\n",
    "from nltk.corpus import stopwords \n",
    "nltk.download('stopwords')\n",
    "stop = set(stopwords.words('english'))"
   ]
  },
  {
   "cell_type": "code",
   "execution_count": 47,
   "metadata": {},
   "outputs": [
    {
     "name": "stdout",
     "output_type": "stream",
     "text": [
      "<module 'collections' from 'C:\\\\Users\\\\trinkesh\\\\anaconda3\\\\lib\\\\collections\\\\__init__.py'>\n"
     ]
    }
   ],
   "source": [
    "import collections\n",
    "print(collections)"
   ]
  },
  {
   "cell_type": "code",
   "execution_count": 46,
   "metadata": {},
   "outputs": [],
   "source": [
    "corpus = []\n",
    "new = data[\"headline_text\"].str.split()\n",
    "new = new.values.tolist()\n",
    "corpus = [word for i in new for word in i]\n",
    "\n",
    "from collections import defaultdict\n",
    "\n",
    "dic  =  defaultdict(int)\n",
    "for word in corpus:\n",
    "    if word in stop:\n",
    "        dic[word]+=1\n",
    "        "
   ]
  },
  {
   "cell_type": "code",
   "execution_count": 68,
   "metadata": {},
   "outputs": [
    {
     "data": {
      "image/png": "[encoded data removed]",
      "text/plain": [
       "<Figure size 432x288 with 1 Axes>"
      ]
     },
     "metadata": {},
     "output_type": "display_data"
    },
    {
     "data": {
      "text/plain": [
       "<Figure size 720x720 with 0 Axes>"
      ]
     },
     "metadata": {},
     "output_type": "display_data"
    }
   ],
   "source": [
    "from collections import Counter\n",
    "counter = Counter(corpus)\n",
    "most = counter.most_common()\n",
    "x,y = [],[]\n",
    "for word,count in most[:40]:\n",
    "    if (word not in stop):\n",
    "        x.append(word)\n",
    "        y.append(count)\n",
    "        \n",
    "sns.barplot(x = y,y =x)\n",
    "plt.figure(figsize = (10,10))\n",
    "plt.show()            "
   ]
  },
  {
   "cell_type": "markdown",
   "metadata": {},
   "source": [
    "# TextBlob\n",
    "TextBlob is a Python (2 and 3) library for processing textual data. It provides a simple API for diving into common natural language processing (NLP) tasks such as part-of-speech tagging, noun phrase extraction, sentiment analysis, classification, translation, and more."
   ]
  },
  {
   "cell_type": "code",
   "execution_count": 57,
   "metadata": {},
   "outputs": [
    {
     "data": {
      "text/plain": [
       "Sentiment(polarity=-0.2, subjectivity=0.0)"
      ]
     },
     "execution_count": 57,
     "metadata": {},
     "output_type": "execute_result"
    }
   ],
   "source": [
    "#textblob\n",
    "from textblob import TextBlob\n",
    "TextBlob('100 people killed in Iraq').sentiment"
   ]
  },
  {
   "cell_type": "code",
   "execution_count": 59,
   "metadata": {},
   "outputs": [
    {
     "data": {
      "image/png": "[encoded data removed]",
      "text/plain": [
       "<Figure size 432x288 with 1 Axes>"
      ]
     },
     "metadata": {},
     "output_type": "display_data"
    }
   ],
   "source": [
    "def polarity(text):\n",
    "    return TextBlob(text).sentiment.polarity\n",
    "\n",
    "data[\"polarity_score\"] = data[\"headline_text\"].\\\n",
    "    apply(lambda x: polarity(x))\n",
    "data[\"polarity_score\"].hist()\n",
    "plt.show()"
   ]
  },
  {
   "cell_type": "code",
   "execution_count": 60,
   "metadata": {},
   "outputs": [
    {
     "data": {
      "image/png": "[encoded data removed]",
      "text/plain": [
       "<Figure size 432x288 with 1 Axes>"
      ]
     },
     "metadata": {},
     "output_type": "display_data"
    }
   ],
   "source": [
    "def sentiment(x):\n",
    "    if x<0:\n",
    "        return 'neg'\n",
    "    elif x==0:\n",
    "        return 'neu'\n",
    "    else:\n",
    "        return 'pos'\n",
    "    \n",
    "data[\"polarity\"] = data[\"polarity_score\"].\\\n",
    "   map(lambda x:sentiment(x))\n",
    "plt.bar(data.polarity.value_counts().index,data.polarity.value_counts())\n",
    "plt.show()"
   ]
  },
  {
   "cell_type": "markdown",
   "metadata": {},
   "source": [
    "Yep, 70 % of news is neutral with only 18% of positive and 11% of negative. Let’s take a look at some of the positive and negative headlines.\n"
   ]
  },
  {
   "cell_type": "code",
   "execution_count": 62,
   "metadata": {},
   "outputs": [
    {
     "data": {
      "text/plain": [
       "0     win cena satisfi defeat undertak bigger roman ...\n",
       "5     extra buse clear tourist traffic extra buse cl...\n",
       "31    extra buse clear tourist traffic extra buse cl...\n",
       "54    hal approach super jumbo project hal approach ...\n",
       "60    the best music year the best music year the be...\n",
       "Name: headline_text, dtype: object"
      ]
     },
     "execution_count": 62,
     "metadata": {},
     "output_type": "execute_result"
    }
   ],
   "source": [
    "data[data[\"polarity\"]=='pos'][\"headline_text\"].head()"
   ]
  },
  {
   "cell_type": "code",
   "execution_count": 63,
   "metadata": {},
   "outputs": [
    {
     "data": {
      "text/plain": [
       "87     powerless north india grope dark powerless nor...\n",
       "112    con game catwalk con game catwalk con game cat...\n",
       "115    flat tyres; flat music famou face flat tyres; ...\n",
       "132    net lottery: a winner sucker? net lottery: a w...\n",
       "139    a museum far mad crowd a museum far mad crowd ...\n",
       "Name: headline_text, dtype: object"
      ]
     },
     "execution_count": 63,
     "metadata": {},
     "output_type": "execute_result"
    }
   ],
   "source": [
    "data[data[\"polarity\"]=='neg'][\"headline_text\"].head()"
   ]
  },
  {
   "cell_type": "code",
   "execution_count": null,
   "metadata": {},
   "outputs": [],
   "source": []
  }
 ],
 "metadata": {
  "kernelspec": {
   "display_name": "Python 3",
   "language": "python",
   "name": "python3"
  },
  "language_info": {
   "codemirror_mode": {
    "name": "ipython",
    "version": 3
   },
   "file_extension": ".py",
   "mimetype": "text/x-python",
   "name": "python",
   "nbconvert_exporter": "python",
   "pygments_lexer": "ipython3",
   "version": "3.7.6"
  }
 },
 "nbformat": 4,
 "nbformat_minor": 4
}
